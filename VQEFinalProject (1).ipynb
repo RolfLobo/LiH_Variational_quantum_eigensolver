{
 "cells": [
  {
   "cell_type": "code",
   "execution_count": 72,
   "metadata": {},
   "outputs": [
    {
     "name": "stderr",
     "output_type": "stream",
     "text": [
      "ibmqfactory.load_account:WARNING:2020-08-06 19:24:46,168: Credentials are already in use. The existing account in the session will be replaced.\n"
     ]
    }
   ],
   "source": [
    "from qiskit import BasicAer, Aer, IBMQ\n",
    "from qiskit.aqua import QuantumInstance, aqua_globals\n",
    "from qiskit.aqua.algorithms import VQE, NumPyEigensolver\n",
    "from qiskit.aqua.components.initial_states import Zero\n",
    "from qiskit.aqua.components.optimizers import COBYLA, L_BFGS_B, SLSQP, SPSA\n",
    "from qiskit.aqua.components.variational_forms import RY, RYRZ, SwapRZ\n",
    "from qiskit.aqua.operators import WeightedPauliOperator, Z2Symmetries\n",
    "from qiskit.chemistry import FermionicOperator\n",
    "from qiskit.chemistry.drivers import PySCFDriver, UnitsType\n",
    "from qiskit.chemistry.components.variational_forms import UCCSD\n",
    "from qiskit.chemistry.components.initial_states import HartreeFock\n",
    "from qiskit.circuit.library import EfficientSU2\n",
    "\n",
    "\n",
    "from qiskit.providers.aer import QasmSimulator\n",
    "from qiskit.providers.aer.noise import NoiseModel\n",
    "from qiskit.providers.aer.noise.errors import QuantumError, ReadoutError\n",
    "from qiskit.providers.aer.noise.errors import pauli_error\n",
    "from qiskit.providers.aer.noise.errors import depolarizing_error\n",
    "from qiskit.providers.aer.noise.errors import thermal_relaxation_error\n",
    "\n",
    "from qiskit.providers.aer import noise\n",
    "provider = IBMQ.load_account()\n",
    "\n",
    "import numpy as np\n",
    "import matplotlib.pyplot as plt\n",
    "from functools import partial\n",
    "\n",
    "import warnings\n",
    "warnings.filterwarnings(\"ignore\", category=DeprecationWarning)"
   ]
  },
  {
   "cell_type": "code",
   "execution_count": 35,
   "metadata": {},
   "outputs": [],
   "source": [
    "# Classically solve for the lowest eigenvalue\n",
    "# This is used just to compare how well you VQE approximation is performing\n",
    "def exact_solver(qubitOp, shift):\n",
    "    ee = NumPyEigensolver(qubitOp)\n",
    "    result = ee.run()\n",
    "    ref = result['eigenvalues']\n",
    "    ref+= shift\n",
    "    print('Reference value: {}'.format(ref))\n",
    "    return ref"
   ]
  },
  {
   "cell_type": "code",
   "execution_count": 80,
   "metadata": {},
   "outputs": [],
   "source": [
    "# Define your function for computing the qubit operations of LiH\n",
    "def compute_LiH_qubitOp(map_type, inter_dist, basis='sto3g'):\n",
    "    \n",
    "    # Specify details of our molecule\n",
    "    driver = PySCFDriver(atom='Li .0 .0 .0; H .0 .0 ' + str(inter_dist), unit=UnitsType.ANGSTROM, charge=0, spin=0, basis=basis)\n",
    "\n",
    "    # Compute relevant 1 and 2 body integrals.\n",
    "    molecule = driver.run()\n",
    "    h1 = molecule.one_body_integrals\n",
    "    h2 = molecule.two_body_integrals\n",
    "    nuclear_repulsion_energy = molecule.nuclear_repulsion_energy\n",
    "    \n",
    "    num_particles = molecule.num_alpha + molecule.num_beta\n",
    "    num_spin_orbitals = molecule.num_orbitals * 2\n",
    "    print(\"HF energy: {}\".format(molecule.hf_energy - molecule.nuclear_repulsion_energy))\n",
    "    #print(\"# of electrons: {}\".format(num_particles))\n",
    "    #print(\"# of spin orbitals: {}\".format(num_spin_orbitals))\n",
    "\n",
    "    # Please be aware that the idx here with respective to original idx\n",
    "    freeze_list = [0]\n",
    "    remove_list = [-3, -2] # negative number denotes the reverse order\n",
    "    \n",
    "    # Prepare full idx of freeze_list and remove_list\n",
    "    # Convert all negative idx to positive\n",
    "    remove_list = [x % molecule.num_orbitals for x in remove_list]\n",
    "    freeze_list = [x % molecule.num_orbitals for x in freeze_list]\n",
    "    \n",
    "    # Update the idx in remove_list of the idx after frozen, since the idx of orbitals are changed after freezing\n",
    "    remove_list = [x - len(freeze_list) for x in remove_list]\n",
    "    remove_list += [x + molecule.num_orbitals - len(freeze_list)  for x in remove_list]\n",
    "    freeze_list += [x + molecule.num_orbitals for x in freeze_list]\n",
    "\n",
    "    # Prepare fermionic hamiltonian with orbital freezing and eliminating, and then map to qubit hamiltonian\n",
    "    # and if PARITY mapping is selected, reduction qubits\n",
    "    energy_shift = 0.0\n",
    "    qubit_reduction = True if map_type == 'parity' else False\n",
    "\n",
    "    ferOp = FermionicOperator(h1=h1, h2=h2)\n",
    "    if len(freeze_list) > 0:\n",
    "        ferOp, energy_shift = ferOp.fermion_mode_freezing(freeze_list)\n",
    "        num_spin_orbitals -= len(freeze_list)\n",
    "        num_particles -= len(freeze_list)\n",
    "    if len(remove_list) > 0:\n",
    "        ferOp = ferOp.fermion_mode_elimination(remove_list)\n",
    "        num_spin_orbitals -= len(remove_list)\n",
    "\n",
    "    qubitOp = ferOp.mapping(map_type=map_type)\n",
    "    qubitOp = Z2Symmetries.two_qubit_reduction(qubitOp, num_particles) if qubit_reduction else qubitOp\n",
    "    qubitOp.chop(10**-10)\n",
    "    \n",
    "    #Overall energy shift:\n",
    "    shift = energy_shift + nuclear_repulsion_energy \n",
    "\n",
    "    return qubitOp, num_spin_orbitals, num_particles, qubit_reduction, shift"
   ]
  },
  {
   "cell_type": "code",
   "execution_count": 38,
   "metadata": {},
   "outputs": [
    {
     "name": "stdout",
     "output_type": "stream",
     "text": [
      "HF energy: -8.854072040283647\n",
      "# of electrons: 4\n",
      "# of spin orbitals: 12\n",
      "Reference value: [-7.88107204+1.49250724e-17j]\n"
     ]
    }
   ],
   "source": [
    "map_type = 'parity'\n",
    "inter_dist = 1.6\n",
    "qubitOp, num_spin_orbitals, num_particles, qubit_reduction, shift = compute_LiH_qubitOp(map_type , inter_dist)\n",
    "# Classically solve for the exact solution and use that as your reference value\n",
    "ref = exact_solver(qubitOp , shift)\n",
    "\n",
    "# Specify your initial state\n",
    "init_state = HartreeFock(num_spin_orbitals,num_particles, qubit_mapping=map_type) \n",
    "\n",
    "# Select a state preparation ansatz\n",
    "# Equivalently, choose a parameterization for our trial wave function.\n",
    "var_form = UCCSD(num_orbitals=num_spin_orbitals, num_particles=num_particles, qubit_mapping=map_type)\n",
    "\n",
    "# Choose where to run/simulate our circuit\n",
    "quantum_instance = Aer.get_backend('statevector_simulator')\n",
    "\n",
    "# Choose the classical optimizer\n",
    "optimizer =  SPSA(max_trials = 1000)\n",
    "\n",
    "# Run your VQE instance\n",
    "vqe = VQE(qubitOp, var_form, optimizer)\n",
    "vqe_results = vqe.run(quantum_instance)\n",
    "\n",
    "# Calculating ground ststae energy from vqe results:\n",
    "ground_state_energy = vqe_results['eigenvalue'] + shift\n",
    "print(ground_state_energy)"
   ]
  },
  {
   "cell_type": "markdown",
   "metadata": {},
   "source": [
    "## Energy vs Interatomic distance"
   ]
  },
  {
   "cell_type": "markdown",
   "metadata": {},
   "source": [
    "With SPSA optimizer"
   ]
  },
  {
   "cell_type": "code",
   "execution_count": 44,
   "metadata": {},
   "outputs": [
    {
     "name": "stdout",
     "output_type": "stream",
     "text": [
      "HF energy: -11.937502651080203\n",
      "# of electrons: 4\n",
      "# of spin orbitals: 12\n",
      "Reference value: [-4.0161352+1.07554707e-17j]\n",
      "HF energy: -11.134208939989525\n",
      "# of electrons: 4\n",
      "# of spin orbitals: 12\n",
      "Reference value: [-5.85713013-6.93881991e-18j]\n",
      "HF energy: -10.579088026010968\n",
      "# of electrons: 4\n",
      "# of spin orbitals: 12\n",
      "Reference value: [-6.62093535-9.25361325e-18j]\n",
      "HF energy: -10.203473360061935\n",
      "# of electrons: 4\n",
      "# of spin orbitals: 12\n",
      "Reference value: [-7.03973252-8.34787303e-18j]\n",
      "HF energy: -9.945427105942246\n",
      "# of electrons: 4\n",
      "# of spin orbitals: 12\n",
      "Reference value: [-7.31334583-2.26283587e-18j]\n",
      "HF energy: -9.753847203061559\n",
      "# of electrons: 4\n",
      "# of spin orbitals: 12\n",
      "Reference value: [-7.50092209-2.03143034e-17j]\n",
      "HF energy: -9.600184702182103\n",
      "# of electrons: 4\n",
      "# of spin orbitals: 12\n",
      "Reference value: [-7.63097825-1.81700835e-17j]\n",
      "HF energy: -9.469677376536117\n",
      "# of electrons: 4\n",
      "# of spin orbitals: 12\n",
      "Reference value: [-7.72081241-7.20298452e-17j]\n",
      "HF energy: -9.35489376850856\n",
      "# of electrons: 4\n",
      "# of spin orbitals: 12\n",
      "Reference value: [-7.7822424-2.24133668e-17j]\n",
      "HF energy: -9.251953751729776\n",
      "# of electrons: 4\n",
      "# of spin orbitals: 12\n",
      "Reference value: [-7.82359928+1.03071488e-16j]\n",
      "HF energy: -9.15855885285691\n",
      "# of electrons: 4\n",
      "# of spin orbitals: 12\n",
      "Reference value: [-7.85069838-3.99967145e-17j]\n",
      "HF energy: -9.073132037002392\n",
      "# of electrons: 4\n",
      "# of spin orbitals: 12\n",
      "Reference value: [-7.86756329+1.94353955e-18j]\n",
      "HF energy: -8.994489827277837\n",
      "# of electrons: 4\n",
      "# of spin orbitals: 12\n",
      "Reference value: [-7.87700149-6.2320584e-17j]\n",
      "HF energy: -8.921712043375118\n",
      "# of electrons: 4\n",
      "# of spin orbitals: 12\n",
      "Reference value: [-7.88101572+1.36419927e-18j]\n",
      "HF energy: -8.854072040283647\n",
      "# of electrons: 4\n",
      "# of spin orbitals: 12\n",
      "Reference value: [-7.88107204+3.41699617e-17j]\n",
      "HF energy: -8.790987097121473\n",
      "# of electrons: 4\n",
      "# of spin orbitals: 12\n",
      "Reference value: [-7.87826817-1.13196862e-17j]\n",
      "HF energy: -8.731980715366806\n",
      "# of electrons: 4\n",
      "# of spin orbitals: 12\n",
      "Reference value: [-7.87344029-2.49688875e-17j]\n",
      "HF energy: -8.67665500538193\n",
      "# of electrons: 4\n",
      "# of spin orbitals: 12\n",
      "Reference value: [-7.86723396+2.08701925e-17j]\n",
      "HF energy: -8.624671401017071\n",
      "# of electrons: 4\n",
      "# of spin orbitals: 12\n",
      "Reference value: [-7.86015321+1.58116301e-17j]\n",
      "HF energy: -8.575737701949151\n",
      "# of electrons: 4\n",
      "# of spin orbitals: 12\n",
      "Reference value: [-7.85259583-2.00231345e-17j]\n",
      "HF energy: -8.529599656891165\n",
      "# of electrons: 4\n",
      "# of spin orbitals: 12\n",
      "Reference value: [-7.84487909+1.86900211e-17j]\n",
      "HF energy: -8.486035628495896\n",
      "# of electrons: 4\n",
      "# of spin orbitals: 12\n",
      "Reference value: [-7.83725797+1.30471343e-17j]\n",
      "HF energy: -8.444853140805389\n",
      "# of electrons: 4\n",
      "# of spin orbitals: 12\n",
      "Reference value: [-7.829937+2.74084095e-18j]\n",
      "HF energy: -8.405886322325903\n",
      "# of electrons: 4\n",
      "# of spin orbitals: 12\n",
      "Reference value: [-7.82307664-1.81238945e-17j]\n",
      "HF energy: -8.368993488572688\n",
      "# of electrons: 4\n",
      "# of spin orbitals: 12\n",
      "Reference value: [-7.81679515-2.56199929e-17j]\n",
      "HF energy: -8.334054386160982\n",
      "# of electrons: 4\n",
      "# of spin orbitals: 12\n",
      "Reference value: [-7.81116828-1.88040065e-18j]\n",
      "HF energy: -8.300966923295368\n",
      "# of electrons: 4\n",
      "# of spin orbitals: 12\n",
      "Reference value: [-7.80622956-7.53750261e-20j]\n",
      "HF energy: -8.269643484101087\n",
      "# of electrons: 4\n",
      "# of spin orbitals: 12\n",
      "Reference value: [-7.8019736-1.148522e-17j]\n",
      "HF energy: -8.240007111137219\n",
      "# of electrons: 4\n",
      "# of spin orbitals: 12\n",
      "Reference value: [-7.79836343-6.45013701e-18j]\n",
      "HF energy: -8.211987911097175\n",
      "# of electrons: 4\n",
      "# of spin orbitals: 12\n",
      "Reference value: [-7.79534045+4.24169754e-18j]\n",
      "HF energy: -8.185519998537497\n",
      "# of electrons: 4\n",
      "# of spin orbitals: 12\n",
      "Reference value: [-7.79283481+9.09327559e-18j]\n",
      "HF energy: -8.1605391772555\n",
      "# of electrons: 4\n",
      "# of spin orbitals: 12\n",
      "Reference value: [-7.79077401-1.37242729e-17j]\n",
      "HF energy: -8.136981417970148\n",
      "# of electrons: 4\n",
      "# of spin orbitals: 12\n",
      "Reference value: [-7.7890889-1.16959756e-17j]\n",
      "HF energy: -8.114782068018085\n",
      "# of electrons: 4\n",
      "# of spin orbitals: 12\n",
      "Reference value: [-7.78771697+4.78718476e-18j]\n",
      "HF energy: -8.093875649366343\n",
      "# of electrons: 4\n",
      "# of spin orbitals: 12\n",
      "Reference value: [-7.78660376-4.08706892e-18j]\n",
      "HF energy: -8.074196070261742\n",
      "# of electrons: 4\n",
      "# of spin orbitals: 12\n",
      "Reference value: [-7.78570291-1.60070357e-17j]\n",
      "HF energy: -8.055677083373515\n",
      "# of electrons: 4\n",
      "# of spin orbitals: 12\n",
      "Reference value: [-7.78497559+1.40481104e-17j]\n",
      "HF energy: -8.038252853722113\n",
      "# of electrons: 4\n",
      "# of spin orbitals: 12\n",
      "Reference value: [-7.78438961-1.27445414e-17j]\n",
      "HF energy: -8.021858538321315\n",
      "# of electrons: 4\n",
      "# of spin orbitals: 12\n",
      "Reference value: [-7.78391847-3.65259822e-18j]\n",
      "HF energy: -8.006430815286917\n",
      "# of electrons: 4\n",
      "# of spin orbitals: 12\n",
      "Reference value: [-7.78354043+6.70467032e-17j]\n",
      "HF energy: -7.991908331736301\n",
      "# of electrons: 4\n",
      "# of spin orbitals: 12\n",
      "Reference value: [-7.78323775+3.68009202e-17j]\n",
      "HF energy: -7.978232056119072\n",
      "# of electrons: 4\n",
      "# of spin orbitals: 12\n",
      "Reference value: [-7.78299593-2.74689789e-18j]\n",
      "HF energy: -7.965345540457416\n",
      "# of electrons: 4\n",
      "# of spin orbitals: 12\n",
      "Reference value: [-7.78280321+3.2308141e-18j]\n",
      "HF energy: -7.953195098792767\n",
      "# of electrons: 4\n",
      "# of spin orbitals: 12\n",
      "Reference value: [-7.78264999+2.48689773e-18j]\n",
      "HF energy: -7.941729911888332\n",
      "# of electrons: 4\n",
      "# of spin orbitals: 12\n",
      "Reference value: [-7.7825285-1.129778e-17j]\n",
      "HF energy: -7.930902075971485\n",
      "# of electrons: 4\n",
      "# of spin orbitals: 12\n",
      "Reference value: [-7.78243243+1.01512399e-17j]\n",
      "HF energy: -7.92066660042046\n",
      "# of electrons: 4\n",
      "# of spin orbitals: 12\n",
      "Reference value: [-7.78235669+2.1999074e-18j]\n",
      "HF energy: -7.886607340277843\n",
      "# of electrons: 4\n",
      "# of spin orbitals: 12\n",
      "Reference value: [-7.78230514+3.44453777e-17j]\n"
     ]
    }
   ],
   "source": [
    "distances = np.arange(0.2 , 5 , 0.1)\n",
    "energies = []\n",
    "for interdist in distances:\n",
    "    qubitOp, num_spin_orbitals, num_particles, qubit_reduction, shift = compute_LiH_qubitOp(map_type , interdist)\n",
    "    # Classically solve for the exact solution and use that as your reference value\n",
    "    ref = exact_solver(qubitOp , shift)\n",
    "\n",
    "    # Specify your initial state\n",
    "    init_state = HartreeFock(num_spin_orbitals,num_particles, qubit_mapping=map_type) \n",
    "\n",
    "    # Select a state preparation ansatz\n",
    "    # Equivalently, choose a parameterization for our trial wave function.\n",
    "    var_form = UCCSD(num_orbitals=num_spin_orbitals, num_particles=num_particles, qubit_mapping=map_type)\n",
    "\n",
    "    # Choose where to run/simulate our circuit\n",
    "    quantum_instance = Aer.get_backend('statevector_simulator')\n",
    "\n",
    "    # Choose the classical optimizer\n",
    "    optimizer =  SPSA(max_trials = 1000)\n",
    "\n",
    "    # Run your VQE instance\n",
    "    vqe = VQE(qubitOp, var_form, optimizer)\n",
    "    vqe_results = vqe.run(quantum_instance)\n",
    "\n",
    "    # Calculating ground state energy from vqe results:\n",
    "    ground_state_energy = vqe_results['eigenvalue'] + shift\n",
    "    energies.append(ground_state_energy)"
   ]
  },
  {
   "cell_type": "code",
   "execution_count": 46,
   "metadata": {},
   "outputs": [
    {
     "name": "stderr",
     "output_type": "stream",
     "text": [
      "/opt/conda/lib/python3.7/site-packages/numpy/core/_asarray.py:83: ComplexWarning: Casting complex values to real discards the imaginary part\n",
      "  return array(a, dtype, copy=False, order=order)\n"
     ]
    },
    {
     "data": {
      "text/plain": [
       "Text(0, 0.5, 'Energy / Hartrees')"
      ]
     },
     "execution_count": 46,
     "metadata": {},
     "output_type": "execute_result"
    },
    {
     "data": {
      "image/png": "[encoded data removed]",
      "text/plain": [
       "<Figure size 432x288 with 1 Axes>"
      ]
     },
     "metadata": {
      "needs_background": "light"
     },
     "output_type": "display_data"
    }
   ],
   "source": [
    "plt.plot(distances , energies)\n",
    "plt.title('Bond energy v. interatomic distance')\n",
    "plt.xlabel('Interatomic distance/ Angstroms')\n",
    "plt.ylabel('Energy / Hartrees')"
   ]
  },
  {
   "cell_type": "markdown",
   "metadata": {},
   "source": [
    "## Comparing different optimizers with UCCSD varitional form "
   ]
  },
  {
   "cell_type": "code",
   "execution_count": 52,
   "metadata": {},
   "outputs": [],
   "source": [
    "def store_intermediate_result(eval_count, parameters, mean, std):\n",
    "            counts.append(eval_count)\n",
    "            values.append(mean)\n",
    "            params.append(parameters)\n",
    "            deviation.append(std)"
   ]
  },
  {
   "cell_type": "code",
   "execution_count": 81,
   "metadata": {},
   "outputs": [
    {
     "name": "stdout",
     "output_type": "stream",
     "text": [
      "Testing SLSQP optimizer\n",
      "HF energy: -8.038252853722364\n",
      "Reference value: [-7.78438961+1.45639545e-17j]\n",
      "Error: [0.00607403]\n",
      "Testing L_BFGS_B optimizer\n",
      "HF energy: -8.038252853722195\n",
      "Reference value: [-7.78438961+4.98379482e-18j]\n",
      "Error: [0.00575516]\n",
      "Testing COBYLA optimizer\n",
      "HF energy: -8.038252853722135\n",
      "Reference value: [-7.78438961+1.13955795e-17j]\n",
      "Error: [0.04747875]\n",
      "Testing SPSA optimizer\n",
      "HF energy: -8.038252853722383\n",
      "Reference value: [-7.78438961-1.83690678e-18j]\n",
      "Error: [0.08081138]\n"
     ]
    },
    {
     "data": {
      "text/plain": [
       "Text(0.5, 1.0, 'Energy Convergence of VQE: UCCSD Ansatz')"
      ]
     },
     "execution_count": 81,
     "metadata": {},
     "output_type": "execute_result"
    },
    {
     "data": {
      "image/png": "[encoded data removed]",
      "text/plain": [
       "<Figure size 432x288 with 1 Axes>"
      ]
     },
     "metadata": {
      "needs_background": "light"
     },
     "output_type": "display_data"
    }
   ],
   "source": [
    "map_type = 'parity'\n",
    "inter_dist = 1.6\n",
    "# Dictionary of optimizers:\n",
    "opt_dict = {'SPSA' , 'SLSQP' , 'COBYLA' , 'L_BFGS_B'}\n",
    "\n",
    "for opt in opt_dict:\n",
    "    print('Testing', str(opt) , 'optimizer')\n",
    "    qubitOp, num_spin_orbitals, num_particles, qubit_reduction, shift = compute_LiH_qubitOp(map_type , interdist)\n",
    "    # Classically solve for the exact solution and use that as your reference value\n",
    "    ref = exact_solver(qubitOp , shift)\n",
    "\n",
    "    # Specify your initial state\n",
    "    init_state = HartreeFock(num_spin_orbitals,num_particles, qubit_mapping=map_type) \n",
    "\n",
    "    # Select a state preparation ansatz\n",
    "    # Equivalently, choose a parameterization for our trial wave function.\n",
    "    var_form = UCCSD(num_orbitals=num_spin_orbitals, num_particles=num_particles, qubit_mapping=map_type)\n",
    "\n",
    "    # Choose where to run/simulate our circuit\n",
    "    quantum_instance = Aer.get_backend('statevector_simulator')\n",
    "\n",
    "    # Choose the classical optimizer\n",
    "    if opt == 'SPSA':\n",
    "        optimizer = SPSA(max_trials = 500)\n",
    "    elif opt == 'SLSQP':\n",
    "        optimizer = SLSQP(maxiter = 1000)\n",
    "    elif opt == 'L_BFGS_B':\n",
    "        optimizer = L_BFGS_B(maxfun = 1000 ,  maxiter = 1000)\n",
    "    elif opt == 'COBYLA':\n",
    "        optimizer = COBYLA(maxiter = 1000)\n",
    "    \n",
    "    counts =[]\n",
    "    values =[]\n",
    "    params =[]\n",
    "    deviation =[]\n",
    "\n",
    "    # Run your VQE instance\n",
    "    vqe = VQE(qubitOp, var_form, optimizer , callback = store_intermediate_result)\n",
    "    vqe_results = vqe.run(quantum_instance)\n",
    "    \n",
    "    #Printing error in final value:\n",
    "    ground_state_energy = vqe_results['eigenvalue'] + shift\n",
    "    energy_error_ground = np.abs(np.real(ref) - ground_state_energy)\n",
    "    print('Error:', str(energy_error_ground))\n",
    "    # Calculating energy error\n",
    "    vqe_energies = np.real(values) + shift\n",
    "    energy_error = np.abs(np.real(ref) - vqe_energies)\n",
    "    plt.plot(counts , energy_error , label=str(opt))\n",
    "plt.legend()\n",
    "plt.xlabel('Counts')\n",
    "plt.ylabel('Energy Error/ Hartree')\n",
    "plt.title('Energy Convergence of VQE: UCCSD Ansatz')"
   ]
  },
  {
   "cell_type": "markdown",
   "metadata": {},
   "source": [
    "## Comparing different optimizers with RYRZ variational form"
   ]
  },
  {
   "cell_type": "code",
   "execution_count": 84,
   "metadata": {},
   "outputs": [
    {
     "name": "stdout",
     "output_type": "stream",
     "text": [
      "Testing SLSQP optimizer\n",
      "HF energy: -8.038252853722014\n",
      "Reference value: [-7.78438961+5.60745688e-18j]\n",
      "Error: [0.00145045]\n",
      "Testing L_BFGS_B optimizer\n",
      "HF energy: -8.03825285372234\n",
      "Reference value: [-7.78438961-3.4637934e-18j]\n",
      "Error: [0.00140238]\n",
      "Testing COBYLA optimizer\n",
      "HF energy: -8.038252853721808\n",
      "Reference value: [-7.78438961+1.46157954e-19j]\n",
      "Error: [0.00253046]\n",
      "Testing SPSA optimizer\n",
      "HF energy: -8.038252853721913\n",
      "Reference value: [-7.78438961+9.46364992e-18j]\n",
      "Error: [0.01713086]\n"
     ]
    },
    {
     "data": {
      "text/plain": [
       "Text(0.5, 1.0, 'Energy Convergence of VQE: RyRz Ansatz')"
      ]
     },
     "execution_count": 84,
     "metadata": {},
     "output_type": "execute_result"
    },
    {
     "data": {
      "image/png": "[encoded data removed]",
      "text/plain": [
       "<Figure size 432x288 with 1 Axes>"
      ]
     },
     "metadata": {
      "needs_background": "light"
     },
     "output_type": "display_data"
    }
   ],
   "source": [
    "map_type = 'parity'\n",
    "inter_dist = 1.6\n",
    "# Dictionary of optimizers:\n",
    "opt_dict = {'SPSA' , 'SLSQP' , 'COBYLA' , 'L_BFGS_B'}\n",
    "\n",
    "for opt in opt_dict:\n",
    "    print('Testing', str(opt) , 'optimizer')\n",
    "    qubitOp, num_spin_orbitals, num_particles, qubit_reduction, shift = compute_LiH_qubitOp(map_type , interdist)\n",
    "    # Classically solve for the exact solution and use that as your reference value\n",
    "    ref = exact_solver(qubitOp , shift)\n",
    "\n",
    "    # Specify your initial state\n",
    "    init_state = HartreeFock(num_spin_orbitals,num_particles, qubit_mapping=map_type) \n",
    "\n",
    "    # Select a state preparation ansatz\n",
    "    # Equivalently, choose a parameterization for our trial wave function.\n",
    "    var_form = EfficientSU2(qubitOp.num_qubits , entanglement='full')\n",
    "\n",
    "    # Choose where to run/simulate our circuit\n",
    "    quantum_instance = Aer.get_backend('statevector_simulator')\n",
    "\n",
    "    # Choose the classical optimizer\n",
    "    if opt == 'SPSA':\n",
    "        optimizer = SPSA(max_trials = 1000)\n",
    "    elif opt == 'SLSQP':\n",
    "        optimizer = SLSQP(maxiter = 1000)\n",
    "    elif opt == 'L_BFGS_B':\n",
    "        optimizer = L_BFGS_B(maxfun = 1000 ,  maxiter = 1000)\n",
    "    elif opt == 'COBYLA':\n",
    "        optimizer = COBYLA(maxiter = 1000)\n",
    "    \n",
    "    counts =[]\n",
    "    values =[]\n",
    "    params =[]\n",
    "    deviation =[]\n",
    "\n",
    "    # Run your VQE instance\n",
    "    vqe = VQE(qubitOp, var_form, optimizer , callback = store_intermediate_result)\n",
    "    vqe_results = vqe.run(quantum_instance)\n",
    "\n",
    "    #Printing error in final value:\n",
    "    ground_state_energy = vqe_results['eigenvalue'] + shift\n",
    "    energy_error_ground = np.abs(np.real(ref) - ground_state_energy)\n",
    "    print('Error:', str(energy_error_ground))\n",
    "    \n",
    "    # Calculating energy error\n",
    "    vqe_energies = np.real(values) + shift\n",
    "    energy_error = np.abs(np.real(ref) - vqe_energies)\n",
    "    plt.plot(counts , energy_error , label=str(opt))\n",
    "plt.legend()\n",
    "plt.xlabel('Counts')\n",
    "plt.ylabel('Energy Error/ Hartree')\n",
    "plt.title('Energy Convergence of VQE: RyRz Ansatz')"
   ]
  },
  {
   "cell_type": "code",
   "execution_count": null,
   "metadata": {},
   "outputs": [],
   "source": []
  },
  {
   "cell_type": "code",
   "execution_count": null,
   "metadata": {},
   "outputs": [],
   "source": []
  }
 ],
 "metadata": {
  "kernelspec": {
   "display_name": "Python 3",
   "language": "python",
   "name": "python3"
  },
  "language_info": {
   "codemirror_mode": {
    "name": "ipython",
    "version": 3
   },
   "file_extension": ".py",
   "mimetype": "text/x-python",
   "name": "python",
   "nbconvert_exporter": "python",
   "pygments_lexer": "ipython3",
   "version": "3.7.8"
  }
 },
 "nbformat": 4,
 "nbformat_minor": 4
}
