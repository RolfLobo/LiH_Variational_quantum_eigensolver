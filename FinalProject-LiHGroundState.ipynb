{
 "cells": [
  {
   "cell_type": "code",
   "execution_count": 1,
   "metadata": {},
   "outputs": [],
   "source": [
    "from qiskit import BasicAer, Aer, IBMQ\n",
    "from qiskit.aqua import QuantumInstance, aqua_globals\n",
    "from qiskit.aqua.algorithms import VQE, ExactEigensolver\n",
    "from qiskit.aqua.components.initial_states import Zero\n",
    "from qiskit.aqua.components.optimizers import COBYLA, L_BFGS_B, SLSQP, SPSA\n",
    "from qiskit.aqua.components.variational_forms import RY, RYRZ, SwapRZ\n",
    "from qiskit.aqua.operators import WeightedPauliOperator, Z2Symmetries\n",
    "from qiskit.chemistry import FermionicOperator\n",
    "from qiskit.chemistry.drivers import PySCFDriver, UnitsType\n",
    "from qiskit.chemistry.components.variational_forms import UCCSD\n",
    "from qiskit.chemistry.components.initial_states import HartreeFock\n",
    "from qiskit.circuit.library import EfficientSU2\n",
    "from qiskit.providers.aer import QasmSimulator\n",
    "from qiskit.providers.aer.noise import NoiseModel\n",
    "from qiskit.providers.aer.noise.errors import QuantumError, ReadoutError\n",
    "from qiskit.providers.aer.noise.errors import pauli_error\n",
    "from qiskit.providers.aer.noise.errors import depolarizing_error\n",
    "from qiskit.providers.aer.noise.errors import thermal_relaxation_error\n",
    "\n",
    "from qiskit.ignis.mitigation.measurement import CompleteMeasFitter\n",
    "\n",
    "from qiskit.providers.aer import noise\n",
    "provider = IBMQ.load_account()\n",
    "\n",
    "import numpy as np\n",
    "import matplotlib.pyplot as plt\n",
    "from functools import partial\n",
    "\n",
    "import warnings\n",
    "warnings.filterwarnings(\"ignore\", category=DeprecationWarning)"
   ]
  },
  {
   "cell_type": "code",
   "execution_count": 2,
   "metadata": {},
   "outputs": [],
   "source": [
    "# Classically solve for the lowest eigenvalue\n",
    "# This is used just to compare how well you VQE approximation is performing\n",
    "def exact_solver(qubitOp,shift):\n",
    "    ee = ExactEigensolver(qubitOp)\n",
    "    result = ee.run()\n",
    "    ref = result['energy']+shift\n",
    "    print('Reference value: {}'.format(ref))\n",
    "    return ref"
   ]
  },
  {
   "cell_type": "code",
   "execution_count": 3,
   "metadata": {},
   "outputs": [],
   "source": [
    "# Define your function for computing the qubit operations of LiH\n",
    "def compute_LiH_qubitOp(map_type, inter_dist, basis='sto3g'):\n",
    "    \n",
    "    # Specify details of our molecule\n",
    "    driver = PySCFDriver(atom='Li .0 .0 .0; H .0 .0 ' + str(inter_dist), unit=UnitsType.ANGSTROM, charge=0, spin=0, basis=basis)\n",
    "\n",
    "    # Compute relevant 1 and 2 body integrals.\n",
    "    molecule = driver.run()\n",
    "    h1 = molecule.one_body_integrals\n",
    "    h2 = molecule.two_body_integrals\n",
    "    nuclear_repulsion_energy = molecule.nuclear_repulsion_energy\n",
    "    \n",
    "    num_particles = molecule.num_alpha + molecule.num_beta\n",
    "    num_spin_orbitals = molecule.num_orbitals * 2\n",
    "    print(\"HF energy: {}\".format(molecule.hf_energy - molecule.nuclear_repulsion_energy))\n",
    "    print(\"# of electrons: {}\".format(num_particles))\n",
    "    print(\"# of spin orbitals: {}\".format(num_spin_orbitals))\n",
    "\n",
    "    # Please be aware that the idx here with respective to original idx\n",
    "    freeze_list = [0]\n",
    "    remove_list = [-3, -2] # negative number denotes the reverse order\n",
    "    \n",
    "    # Prepare full idx of freeze_list and remove_list\n",
    "    # Convert all negative idx to positive\n",
    "    remove_list = [x % molecule.num_orbitals for x in remove_list]\n",
    "    freeze_list = [x % molecule.num_orbitals for x in freeze_list]\n",
    "    \n",
    "    # Update the idx in remove_list of the idx after frozen, since the idx of orbitals are changed after freezing\n",
    "    remove_list = [x - len(freeze_list) for x in remove_list]\n",
    "    remove_list += [x + molecule.num_orbitals - len(freeze_list)  for x in remove_list]\n",
    "    freeze_list += [x + molecule.num_orbitals for x in freeze_list]\n",
    "\n",
    "    # Prepare fermionic hamiltonian with orbital freezing and eliminating, and then map to qubit hamiltonian\n",
    "    # and if PARITY mapping is selected, reduction qubits\n",
    "    energy_shift = 0.0\n",
    "    qubit_reduction = True if map_type == 'parity' else False\n",
    "\n",
    "    ferOp = FermionicOperator(h1=h1, h2=h2)\n",
    "    if len(freeze_list) > 0:\n",
    "        ferOp, energy_shift = ferOp.fermion_mode_freezing(freeze_list)\n",
    "        num_spin_orbitals -= len(freeze_list)\n",
    "        num_particles -= len(freeze_list)\n",
    "    if len(remove_list) > 0:\n",
    "        ferOp = ferOp.fermion_mode_elimination(remove_list)\n",
    "        num_spin_orbitals -= len(remove_list)\n",
    "\n",
    "    qubitOp = ferOp.mapping(map_type=map_type)\n",
    "    qubitOp = Z2Symmetries.two_qubit_reduction(qubitOp, num_particles) if qubit_reduction else qubitOp\n",
    "    qubitOp.chop(10**-10)\n",
    "    \n",
    "    #Overall energy shift:\n",
    "    shift = energy_shift + nuclear_repulsion_energy \n",
    "\n",
    "    return qubitOp, num_spin_orbitals, num_particles, qubit_reduction, shift"
   ]
  },
  {
   "cell_type": "code",
   "execution_count": 5,
   "metadata": {},
   "outputs": [],
   "source": [
    "def store_intermediate_result(eval_count, parameters, mean, std):\n",
    "            counts.append(eval_count)\n",
    "            values.append(mean)\n",
    "            params.append(parameters)\n",
    "            deviation.append(std)\n",
    "def get_ground_State(map_type,inter_dist,init_state,ansatz,optimizer_select):\n",
    "    qubitOp, num_spin_orbitals, num_particles, \\\n",
    "    qubit_reduction,shift = compute_LiH_qubitOp(map_type,inter_dist=inter_dist)\n",
    "    \n",
    "    #Initial State\n",
    "    if init_state == \"Zero\":\n",
    "        initState = Zero(qubitOp.num_qubits)\n",
    "    elif init_state == \"HartreeFock\":\n",
    "        initState = HartreeFock(\n",
    "            num_spin_orbitals,\n",
    "            num_particles,\n",
    "            qubit_mapping=map_type,\n",
    "            two_qubit_reduction=qubit_reduction\n",
    "        )\n",
    "        \n",
    "    #Ansatz\n",
    "    depth = 10\n",
    "    if ansatz == \"RY\":\n",
    "        var_form = EfficientSU2(qubitOp.num_qubits,entanglement='full',su2_gates=['ry'],reps = 1,\\\n",
    "                                initial_state=initState)\n",
    "    elif ansatz == \"RYRZ\":\n",
    "        var_form = EfficientSU2(qubitOp.num_qubits,entanglement='full',su2_gates=['ry','rz'],reps = 1,\\\n",
    "                                initial_state=initState)\n",
    "    elif ansatz == \"SwapRZ\":\n",
    "        var_form = EfficientSU2(qubitOp.num_qubits,entanglement='full',su2_gates=['swap','rz'],reps = 1,\\\n",
    "                                initial_state=initState)\n",
    "    elif ansatz == \"UCCSD\":\n",
    "        var_form = UCCSD(\n",
    "            num_orbitals=num_spin_orbitals,\n",
    "            num_particles=num_particles,\n",
    "            initial_state=initState,\n",
    "            qubit_mapping=map_type\n",
    "        )\n",
    "        \n",
    "    #Optimizer\n",
    "    if optimizer_select == \"COBYLA\":\n",
    "        optimizer = COBYLA(maxiter = 1000)\n",
    "    elif optimizer_select == \"SPSA\":\n",
    "        optimizer = SPSA(max_trials = 1000)\n",
    "        \n",
    "    #Noise model\n",
    "    backend_ = \"qasm_simulator\"\n",
    "    shots = 1000\n",
    "\n",
    "    provider = IBMQ.get_provider(hub='ibm-q')\n",
    "    backend = Aer.get_backend(backend_)\n",
    "    device = provider.get_backend(\"ibmq_vigo\")\n",
    "    coupling_map = device.configuration().coupling_map\n",
    "    noise_model = NoiseModel.from_backend(device.properties())\n",
    "    quantum_instance = QuantumInstance(backend=backend, \n",
    "                                       shots=shots, \n",
    "                                       noise_model=noise_model, \n",
    "                                       coupling_map=coupling_map,\n",
    "                                       measurement_error_mitigation_cls=CompleteMeasFitter,\n",
    "                                       cals_matrix_refresh_period=30)\n",
    "    \n",
    "    #Running VQE\n",
    "\n",
    "    \n",
    "    vqe = VQE(qubitOp, var_form, optimizer, callback = store_intermediate_result)\n",
    "    \n",
    "    vqe_result = np.real(vqe.run(quantum_instance)['eigenvalue'] + shift)\n",
    "    callbackDict = {\"counts\":counts,\"values\":values,\"params\":params,\"deviation\":deviation}\n",
    "    \n",
    "    return vqe_result,callbackDict,qubitOp,shift"
   ]
  },
  {
   "cell_type": "code",
   "execution_count": 6,
   "metadata": {},
   "outputs": [],
   "source": [
    "map_type = \"parity\"\n",
    "inter_dist = 1.6"
   ]
  },
  {
   "cell_type": "markdown",
   "metadata": {},
   "source": [
    "# Choices of Initial State"
   ]
  },
  {
   "cell_type": "code",
   "execution_count": 7,
   "metadata": {},
   "outputs": [],
   "source": [
    "initialStateList = [\"Zero\",\"HartreeFock\"]"
   ]
  },
  {
   "cell_type": "markdown",
   "metadata": {},
   "source": [
    "# Choices of state preparation ansatz"
   ]
  },
  {
   "cell_type": "code",
   "execution_count": 8,
   "metadata": {},
   "outputs": [],
   "source": [
    "ansatzList = [\"UCCSD\",\"RY\",\"RYRZ\",\"SwapRZ\"]"
   ]
  },
  {
   "cell_type": "markdown",
   "metadata": {},
   "source": [
    "# Choices of Optimizer"
   ]
  },
  {
   "cell_type": "code",
   "execution_count": 9,
   "metadata": {},
   "outputs": [],
   "source": [
    "optimizerList = [\"COBYLA\",\"SPSA\"]"
   ]
  },
  {
   "cell_type": "code",
   "execution_count": 10,
   "metadata": {},
   "outputs": [],
   "source": [
    "import itertools\n",
    "choices = list(itertools.product(initialStateList,ansatzList,optimizerList))"
   ]
  },
  {
   "cell_type": "code",
   "execution_count": 11,
   "metadata": {},
   "outputs": [
    {
     "data": {
      "text/plain": [
       "[('HartreeFock', 'UCCSD', 'COBYLA'),\n",
       " ('HartreeFock', 'UCCSD', 'SPSA'),\n",
       " ('HartreeFock', 'RY', 'COBYLA'),\n",
       " ('HartreeFock', 'RY', 'SPSA'),\n",
       " ('HartreeFock', 'RYRZ', 'COBYLA'),\n",
       " ('HartreeFock', 'RYRZ', 'SPSA'),\n",
       " ('HartreeFock', 'SwapRZ', 'COBYLA'),\n",
       " ('HartreeFock', 'SwapRZ', 'SPSA')]"
      ]
     },
     "execution_count": 11,
     "metadata": {},
     "output_type": "execute_result"
    }
   ],
   "source": [
    "choices[8:]"
   ]
  },
  {
   "cell_type": "code",
   "execution_count": 12,
   "metadata": {},
   "outputs": [],
   "source": [
    "selected_choices = choices[8:]"
   ]
  },
  {
   "cell_type": "code",
   "execution_count": 13,
   "metadata": {},
   "outputs": [
    {
     "data": {
      "text/plain": [
       "8"
      ]
     },
     "execution_count": 13,
     "metadata": {},
     "output_type": "execute_result"
    }
   ],
   "source": [
    "len(selected_choices)"
   ]
  },
  {
   "cell_type": "code",
   "execution_count": 14,
   "metadata": {},
   "outputs": [
    {
     "data": {
      "text/plain": [
       "('HartreeFock', 'UCCSD', 'COBYLA')"
      ]
     },
     "execution_count": 14,
     "metadata": {},
     "output_type": "execute_result"
    }
   ],
   "source": [
    "selected_choices[0]"
   ]
  },
  {
   "cell_type": "markdown",
   "metadata": {},
   "source": [
    "# Run Algo"
   ]
  },
  {
   "cell_type": "code",
   "execution_count": 15,
   "metadata": {},
   "outputs": [],
   "source": [
    "map_type = \"parity\"\n",
    "inter_dist = 1.6"
   ]
  },
  {
   "cell_type": "code",
   "execution_count": null,
   "metadata": {},
   "outputs": [
    {
     "name": "stdout",
     "output_type": "stream",
     "text": [
      "HF energy: -8.854072040283643\n",
      "# of electrons: 4\n",
      "# of spin orbitals: 12\n",
      "Reference value: -7.881072044030919\n",
      "Energy Error : 0.6268734203768664\n"
     ]
    },
    {
     "data": {
      "image/png": "[encoded data removed]",
      "text/plain": [
       "<Figure size 432x288 with 1 Axes>"
      ]
     },
     "metadata": {
      "needs_background": "light"
     },
     "output_type": "display_data"
    },
    {
     "name": "stdout",
     "output_type": "stream",
     "text": [
      "--------------------------------\n",
      "HF energy: -8.854072040283645\n",
      "# of electrons: 4\n",
      "# of spin orbitals: 12\n",
      "Reference value: -7.881072044030914\n",
      "Energy Error : 0.6304252903425089\n"
     ]
    },
    {
     "data": {
      "image/png": "[encoded data removed]",
      "text/plain": [
       "<Figure size 432x288 with 1 Axes>"
      ]
     },
     "metadata": {
      "needs_background": "light"
     },
     "output_type": "display_data"
    },
    {
     "name": "stdout",
     "output_type": "stream",
     "text": [
      "--------------------------------\n",
      "HF energy: -8.854072040283649\n",
      "# of electrons: 4\n",
      "# of spin orbitals: 12\n",
      "Reference value: -7.881072044030917\n",
      "Energy Error : 0.1705436299127614\n"
     ]
    },
    {
     "data": {
      "image/png": "[encoded data removed]",
      "text/plain": [
       "<Figure size 432x288 with 1 Axes>"
      ]
     },
     "metadata": {
      "needs_background": "light"
     },
     "output_type": "display_data"
    },
    {
     "name": "stdout",
     "output_type": "stream",
     "text": [
      "--------------------------------\n",
      "HF energy: -8.854072040283645\n",
      "# of electrons: 4\n",
      "# of spin orbitals: 12\n"
     ]
    }
   ],
   "source": [
    "for i in selected_choices:\n",
    "    counts = []\n",
    "    values =[]\n",
    "    params =[]\n",
    "    deviation = []\n",
    "    init_state = i[0]\n",
    "    ansatz = i[1]\n",
    "    optimizer_select = i[2]\n",
    "    \n",
    "    chosen = str({\"Optimizer \":optimizer_select,\"Ansatz \":ansatz,\"Initial State \":init_state})\n",
    "    \n",
    "    vqe_result,callbackDict,qubitOp,shift = get_ground_State(map_type,inter_dist,init_state,ansatz,optimizer_select)\n",
    "    \n",
    "    ref = exact_solver(qubitOp , shift)\n",
    "    energy_error = np.abs(np.real(ref) - vqe_result)\n",
    "    print(\"Energy Error :\",energy_error)\n",
    "    # Calculating energy error\n",
    "    vqe_energies = np.real(callbackDict[\"values\"]) + shift\n",
    "    energy_errors = np.abs(np.real(ref) - vqe_energies)\n",
    "    plt.plot(callbackDict[\"counts\"] , energy_errors)\n",
    "    plt.xlabel('Counts')\n",
    "    plt.ylabel('Energy Error/ Hartree')\n",
    "    plt.title(\"Choices : \"+chosen)\n",
    "    plt.show()\n",
    "    print(\"--------------------------------\")"
   ]
  }
 ],
 "metadata": {
  "kernelspec": {
   "display_name": "Python 3",
   "language": "python",
   "name": "python3"
  },
  "language_info": {
   "codemirror_mode": {
    "name": "ipython",
    "version": 3
   },
   "file_extension": ".py",
   "mimetype": "text/x-python",
   "name": "python",
   "nbconvert_exporter": "python",
   "pygments_lexer": "ipython3",
   "version": "3.7.4"
  }
 },
 "nbformat": 4,
 "nbformat_minor": 2
}
